{
  "nbformat": 4,
  "nbformat_minor": 0,
  "metadata": {
    "colab": {
      "name": "A/B Testing Marketing.ipynb",
      "provenance": []
    },
    "kernelspec": {
      "name": "python3",
      "display_name": "Python 3"
    },
    "language_info": {
      "name": "python"
    }
  },
  "cells": [
    {
      "cell_type": "markdown",
      "source": [
        "# Introduction\n",
        "\n",
        "\n",
        "A [fast-food chain](https://drive.google.com/file/d/1dQsnvaPOQ2zAsg8uc8UVhER7GIztrEW-/view?usp=sharing) plans to add a new item to its menu. However, they are still undecided between three possible marketing campaigns for promoting the new product. In order to determine which promotion has the greatest effect on sales, the new item is introduced at locations in several randomly selected markets. A different promotion is used at each location, and the weekly sales of the new item are recorded for the first four weeks.\n",
        "\n",
        "\n",
        "\n",
        "Objective:\n",
        "\n",
        "\n",
        "By this analysis, we would be using A/B testing to determine which promotional activity works best for the company.(in term of magnitude)\n",
        "\n",
        "Features Explanation:\n",
        "\n",
        "\n",
        "MarketID: unique identifier for market\n",
        "\n",
        "\n",
        "MarketSize: size of market area by sales\n",
        "\n",
        "LocationID: unique identifier for store location\n",
        "\n",
        "AgeOfStore: age of store in years\n",
        "\n",
        "Promotion: one of three promotions that were tested\n",
        "\n",
        "\n",
        "week: one of four weeks when the promotions were run\n",
        "\n",
        "\n",
        "SalesInThousands: sales amount for a specific LocationID, Promotion, and week"
      ],
      "metadata": {
        "id": "xSHkAlj3v0Ds"
      }
    },
    {
      "cell_type": "markdown",
      "source": [
        "# Importing libraries and Loading the dataset\n",
        "\n",
        "In this step, we will first import libraries and then load this educational dataset into the notebook."
      ],
      "metadata": {
        "id": "EF33PjP2cQuN"
      }
    },
    {
      "cell_type": "code",
      "source": [
        "# importing libraries\n",
        "import numpy as np\n",
        "import matplotlib.pyplot as plt\n",
        "import seaborn as sns\n",
        "import pandas as pd\n",
        "import io\n",
        "sns.set_style('darkgrid')\n",
        "# ignore warnings\n",
        "import warnings\n",
        "warnings.simplefilter('ignore')"
      ],
      "metadata": {
        "id": "mOVrLmDG32Ex"
      },
      "execution_count": 121,
      "outputs": []
    },
    {
      "cell_type": "code",
      "source": [
        "from google.colab import files\n",
        "uploaded = files.upload()"
      ],
      "metadata": {
        "colab": {
          "resources": {
            "http://localhost:8080/nbextensions/google.colab/files.js": {
              "data": "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",
              "ok": true,
              "headers": [
                [
                  "content-type",
                  "application/javascript"
                ]
              ],
              "status": 200,
              "status_text": ""
            }
          },
          "base_uri": "https://localhost:8080/",
          "height": 73
        },
        "id": "ToImlWsF32Li",
        "outputId": "4a9cd960-6808-45b1-ba4f-dcb1f324ef03"
      },
      "execution_count": 125,
      "outputs": [
        {
          "output_type": "display_data",
          "data": {
            "text/plain": [
              "<IPython.core.display.HTML object>"
            ],
            "text/html": [
              "\n",
              "     <input type=\"file\" id=\"files-727da5bc-592d-4d78-a35f-858b90aeab63\" name=\"files[]\" multiple disabled\n",
              "        style=\"border:none\" />\n",
              "     <output id=\"result-727da5bc-592d-4d78-a35f-858b90aeab63\">\n",
              "      Upload widget is only available when the cell has been executed in the\n",
              "      current browser session. Please rerun this cell to enable.\n",
              "      </output>\n",
              "      <script src=\"/nbextensions/google.colab/files.js\"></script> "
            ]
          },
          "metadata": {}
        },
        {
          "output_type": "stream",
          "name": "stdout",
          "text": [
            "Saving WA_Marketing-Campaign.csv to WA_Marketing-Campaign (4).csv\n"
          ]
        }
      ]
    },
    {
      "cell_type": "code",
      "source": [
        "# loading the file\n",
        "df = pd.read_csv(io.BytesIO(uploaded['WA_Marketing-Campaign.csv']))"
      ],
      "metadata": {
        "id": "I8jy56ia32OS"
      },
      "execution_count": 126,
      "outputs": []
    },
    {
      "cell_type": "markdown",
      "source": [
        "# Exploring the data\n",
        "\n",
        "In this step,we will explore the dataset so as to determine or dig out some facts about it."
      ],
      "metadata": {
        "id": "LEWr160ih0lx"
      }
    },
    {
      "cell_type": "code",
      "source": [
        "# look at the head\n",
        "df.head()"
      ],
      "metadata": {
        "colab": {
          "base_uri": "https://localhost:8080/",
          "height": 206
        },
        "id": "_4qNgOBt32R4",
        "outputId": "e3137c09-45c7-463a-ca91-d5e3bc84e178"
      },
      "execution_count": 127,
      "outputs": [
        {
          "output_type": "execute_result",
          "data": {
            "text/plain": [
              "   MarketID MarketSize  LocationID  AgeOfStore  Promotion  week  \\\n",
              "0         1     Medium           1           4          3     1   \n",
              "1         1     Medium           1           4          3     2   \n",
              "2         1     Medium           1           4          3     3   \n",
              "3         1     Medium           1           4          3     4   \n",
              "4         1     Medium           2           5          2     1   \n",
              "\n",
              "   SalesInThousands  \n",
              "0             33.73  \n",
              "1             35.67  \n",
              "2             29.03  \n",
              "3             39.25  \n",
              "4             27.81  "
            ],
            "text/html": [
              "\n",
              "  <div id=\"df-7873f5d1-8390-496b-8f40-afbcda35e614\">\n",
              "    <div class=\"colab-df-container\">\n",
              "      <div>\n",
              "<style scoped>\n",
              "    .dataframe tbody tr th:only-of-type {\n",
              "        vertical-align: middle;\n",
              "    }\n",
              "\n",
              "    .dataframe tbody tr th {\n",
              "        vertical-align: top;\n",
              "    }\n",
              "\n",
              "    .dataframe thead th {\n",
              "        text-align: right;\n",
              "    }\n",
              "</style>\n",
              "<table border=\"1\" class=\"dataframe\">\n",
              "  <thead>\n",
              "    <tr style=\"text-align: right;\">\n",
              "      <th></th>\n",
              "      <th>MarketID</th>\n",
              "      <th>MarketSize</th>\n",
              "      <th>LocationID</th>\n",
              "      <th>AgeOfStore</th>\n",
              "      <th>Promotion</th>\n",
              "      <th>week</th>\n",
              "      <th>SalesInThousands</th>\n",
              "    </tr>\n",
              "  </thead>\n",
              "  <tbody>\n",
              "    <tr>\n",
              "      <th>0</th>\n",
              "      <td>1</td>\n",
              "      <td>Medium</td>\n",
              "      <td>1</td>\n",
              "      <td>4</td>\n",
              "      <td>3</td>\n",
              "      <td>1</td>\n",
              "      <td>33.73</td>\n",
              "    </tr>\n",
              "    <tr>\n",
              "      <th>1</th>\n",
              "      <td>1</td>\n",
              "      <td>Medium</td>\n",
              "      <td>1</td>\n",
              "      <td>4</td>\n",
              "      <td>3</td>\n",
              "      <td>2</td>\n",
              "      <td>35.67</td>\n",
              "    </tr>\n",
              "    <tr>\n",
              "      <th>2</th>\n",
              "      <td>1</td>\n",
              "      <td>Medium</td>\n",
              "      <td>1</td>\n",
              "      <td>4</td>\n",
              "      <td>3</td>\n",
              "      <td>3</td>\n",
              "      <td>29.03</td>\n",
              "    </tr>\n",
              "    <tr>\n",
              "      <th>3</th>\n",
              "      <td>1</td>\n",
              "      <td>Medium</td>\n",
              "      <td>1</td>\n",
              "      <td>4</td>\n",
              "      <td>3</td>\n",
              "      <td>4</td>\n",
              "      <td>39.25</td>\n",
              "    </tr>\n",
              "    <tr>\n",
              "      <th>4</th>\n",
              "      <td>1</td>\n",
              "      <td>Medium</td>\n",
              "      <td>2</td>\n",
              "      <td>5</td>\n",
              "      <td>2</td>\n",
              "      <td>1</td>\n",
              "      <td>27.81</td>\n",
              "    </tr>\n",
              "  </tbody>\n",
              "</table>\n",
              "</div>\n",
              "      <button class=\"colab-df-convert\" onclick=\"convertToInteractive('df-7873f5d1-8390-496b-8f40-afbcda35e614')\"\n",
              "              title=\"Convert this dataframe to an interactive table.\"\n",
              "              style=\"display:none;\">\n",
              "        \n",
              "  <svg xmlns=\"http://www.w3.org/2000/svg\" height=\"24px\"viewBox=\"0 0 24 24\"\n",
              "       width=\"24px\">\n",
              "    <path d=\"M0 0h24v24H0V0z\" fill=\"none\"/>\n",
              "    <path d=\"M18.56 5.44l.94 2.06.94-2.06 2.06-.94-2.06-.94-.94-2.06-.94 2.06-2.06.94zm-11 1L8.5 8.5l.94-2.06 2.06-.94-2.06-.94L8.5 2.5l-.94 2.06-2.06.94zm10 10l.94 2.06.94-2.06 2.06-.94-2.06-.94-.94-2.06-.94 2.06-2.06.94z\"/><path d=\"M17.41 7.96l-1.37-1.37c-.4-.4-.92-.59-1.43-.59-.52 0-1.04.2-1.43.59L10.3 9.45l-7.72 7.72c-.78.78-.78 2.05 0 2.83L4 21.41c.39.39.9.59 1.41.59.51 0 1.02-.2 1.41-.59l7.78-7.78 2.81-2.81c.8-.78.8-2.07 0-2.86zM5.41 20L4 18.59l7.72-7.72 1.47 1.35L5.41 20z\"/>\n",
              "  </svg>\n",
              "      </button>\n",
              "      \n",
              "  <style>\n",
              "    .colab-df-container {\n",
              "      display:flex;\n",
              "      flex-wrap:wrap;\n",
              "      gap: 12px;\n",
              "    }\n",
              "\n",
              "    .colab-df-convert {\n",
              "      background-color: #E8F0FE;\n",
              "      border: none;\n",
              "      border-radius: 50%;\n",
              "      cursor: pointer;\n",
              "      display: none;\n",
              "      fill: #1967D2;\n",
              "      height: 32px;\n",
              "      padding: 0 0 0 0;\n",
              "      width: 32px;\n",
              "    }\n",
              "\n",
              "    .colab-df-convert:hover {\n",
              "      background-color: #E2EBFA;\n",
              "      box-shadow: 0px 1px 2px rgba(60, 64, 67, 0.3), 0px 1px 3px 1px rgba(60, 64, 67, 0.15);\n",
              "      fill: #174EA6;\n",
              "    }\n",
              "\n",
              "    [theme=dark] .colab-df-convert {\n",
              "      background-color: #3B4455;\n",
              "      fill: #D2E3FC;\n",
              "    }\n",
              "\n",
              "    [theme=dark] .colab-df-convert:hover {\n",
              "      background-color: #434B5C;\n",
              "      box-shadow: 0px 1px 3px 1px rgba(0, 0, 0, 0.15);\n",
              "      filter: drop-shadow(0px 1px 2px rgba(0, 0, 0, 0.3));\n",
              "      fill: #FFFFFF;\n",
              "    }\n",
              "  </style>\n",
              "\n",
              "      <script>\n",
              "        const buttonEl =\n",
              "          document.querySelector('#df-7873f5d1-8390-496b-8f40-afbcda35e614 button.colab-df-convert');\n",
              "        buttonEl.style.display =\n",
              "          google.colab.kernel.accessAllowed ? 'block' : 'none';\n",
              "\n",
              "        async function convertToInteractive(key) {\n",
              "          const element = document.querySelector('#df-7873f5d1-8390-496b-8f40-afbcda35e614');\n",
              "          const dataTable =\n",
              "            await google.colab.kernel.invokeFunction('convertToInteractive',\n",
              "                                                     [key], {});\n",
              "          if (!dataTable) return;\n",
              "\n",
              "          const docLinkHtml = 'Like what you see? Visit the ' +\n",
              "            '<a target=\"_blank\" href=https://colab.research.google.com/notebooks/data_table.ipynb>data table notebook</a>'\n",
              "            + ' to learn more about interactive tables.';\n",
              "          element.innerHTML = '';\n",
              "          dataTable['output_type'] = 'display_data';\n",
              "          await google.colab.output.renderOutput(dataTable, element);\n",
              "          const docLink = document.createElement('div');\n",
              "          docLink.innerHTML = docLinkHtml;\n",
              "          element.appendChild(docLink);\n",
              "        }\n",
              "      </script>\n",
              "    </div>\n",
              "  </div>\n",
              "  "
            ]
          },
          "metadata": {},
          "execution_count": 127
        }
      ]
    },
    {
      "cell_type": "code",
      "source": [
        "# look at the tail\n",
        "df.tail()"
      ],
      "metadata": {
        "colab": {
          "base_uri": "https://localhost:8080/",
          "height": 206
        },
        "id": "b8XUbmkO32Vs",
        "outputId": "95f87610-861a-48f4-dea0-790071399f8f"
      },
      "execution_count": 128,
      "outputs": [
        {
          "output_type": "execute_result",
          "data": {
            "text/plain": [
              "     MarketID MarketSize  LocationID  AgeOfStore  Promotion  week  \\\n",
              "543        10      Large         919           2          1     4   \n",
              "544        10      Large         920          14          2     1   \n",
              "545        10      Large         920          14          2     2   \n",
              "546        10      Large         920          14          2     3   \n",
              "547        10      Large         920          14          2     4   \n",
              "\n",
              "     SalesInThousands  \n",
              "543             64.34  \n",
              "544             50.20  \n",
              "545             45.75  \n",
              "546             44.29  \n",
              "547             49.41  "
            ],
            "text/html": [
              "\n",
              "  <div id=\"df-c71e8b7e-de31-41b5-a1e3-847448af1c09\">\n",
              "    <div class=\"colab-df-container\">\n",
              "      <div>\n",
              "<style scoped>\n",
              "    .dataframe tbody tr th:only-of-type {\n",
              "        vertical-align: middle;\n",
              "    }\n",
              "\n",
              "    .dataframe tbody tr th {\n",
              "        vertical-align: top;\n",
              "    }\n",
              "\n",
              "    .dataframe thead th {\n",
              "        text-align: right;\n",
              "    }\n",
              "</style>\n",
              "<table border=\"1\" class=\"dataframe\">\n",
              "  <thead>\n",
              "    <tr style=\"text-align: right;\">\n",
              "      <th></th>\n",
              "      <th>MarketID</th>\n",
              "      <th>MarketSize</th>\n",
              "      <th>LocationID</th>\n",
              "      <th>AgeOfStore</th>\n",
              "      <th>Promotion</th>\n",
              "      <th>week</th>\n",
              "      <th>SalesInThousands</th>\n",
              "    </tr>\n",
              "  </thead>\n",
              "  <tbody>\n",
              "    <tr>\n",
              "      <th>543</th>\n",
              "      <td>10</td>\n",
              "      <td>Large</td>\n",
              "      <td>919</td>\n",
              "      <td>2</td>\n",
              "      <td>1</td>\n",
              "      <td>4</td>\n",
              "      <td>64.34</td>\n",
              "    </tr>\n",
              "    <tr>\n",
              "      <th>544</th>\n",
              "      <td>10</td>\n",
              "      <td>Large</td>\n",
              "      <td>920</td>\n",
              "      <td>14</td>\n",
              "      <td>2</td>\n",
              "      <td>1</td>\n",
              "      <td>50.20</td>\n",
              "    </tr>\n",
              "    <tr>\n",
              "      <th>545</th>\n",
              "      <td>10</td>\n",
              "      <td>Large</td>\n",
              "      <td>920</td>\n",
              "      <td>14</td>\n",
              "      <td>2</td>\n",
              "      <td>2</td>\n",
              "      <td>45.75</td>\n",
              "    </tr>\n",
              "    <tr>\n",
              "      <th>546</th>\n",
              "      <td>10</td>\n",
              "      <td>Large</td>\n",
              "      <td>920</td>\n",
              "      <td>14</td>\n",
              "      <td>2</td>\n",
              "      <td>3</td>\n",
              "      <td>44.29</td>\n",
              "    </tr>\n",
              "    <tr>\n",
              "      <th>547</th>\n",
              "      <td>10</td>\n",
              "      <td>Large</td>\n",
              "      <td>920</td>\n",
              "      <td>14</td>\n",
              "      <td>2</td>\n",
              "      <td>4</td>\n",
              "      <td>49.41</td>\n",
              "    </tr>\n",
              "  </tbody>\n",
              "</table>\n",
              "</div>\n",
              "      <button class=\"colab-df-convert\" onclick=\"convertToInteractive('df-c71e8b7e-de31-41b5-a1e3-847448af1c09')\"\n",
              "              title=\"Convert this dataframe to an interactive table.\"\n",
              "              style=\"display:none;\">\n",
              "        \n",
              "  <svg xmlns=\"http://www.w3.org/2000/svg\" height=\"24px\"viewBox=\"0 0 24 24\"\n",
              "       width=\"24px\">\n",
              "    <path d=\"M0 0h24v24H0V0z\" fill=\"none\"/>\n",
              "    <path d=\"M18.56 5.44l.94 2.06.94-2.06 2.06-.94-2.06-.94-.94-2.06-.94 2.06-2.06.94zm-11 1L8.5 8.5l.94-2.06 2.06-.94-2.06-.94L8.5 2.5l-.94 2.06-2.06.94zm10 10l.94 2.06.94-2.06 2.06-.94-2.06-.94-.94-2.06-.94 2.06-2.06.94z\"/><path d=\"M17.41 7.96l-1.37-1.37c-.4-.4-.92-.59-1.43-.59-.52 0-1.04.2-1.43.59L10.3 9.45l-7.72 7.72c-.78.78-.78 2.05 0 2.83L4 21.41c.39.39.9.59 1.41.59.51 0 1.02-.2 1.41-.59l7.78-7.78 2.81-2.81c.8-.78.8-2.07 0-2.86zM5.41 20L4 18.59l7.72-7.72 1.47 1.35L5.41 20z\"/>\n",
              "  </svg>\n",
              "      </button>\n",
              "      \n",
              "  <style>\n",
              "    .colab-df-container {\n",
              "      display:flex;\n",
              "      flex-wrap:wrap;\n",
              "      gap: 12px;\n",
              "    }\n",
              "\n",
              "    .colab-df-convert {\n",
              "      background-color: #E8F0FE;\n",
              "      border: none;\n",
              "      border-radius: 50%;\n",
              "      cursor: pointer;\n",
              "      display: none;\n",
              "      fill: #1967D2;\n",
              "      height: 32px;\n",
              "      padding: 0 0 0 0;\n",
              "      width: 32px;\n",
              "    }\n",
              "\n",
              "    .colab-df-convert:hover {\n",
              "      background-color: #E2EBFA;\n",
              "      box-shadow: 0px 1px 2px rgba(60, 64, 67, 0.3), 0px 1px 3px 1px rgba(60, 64, 67, 0.15);\n",
              "      fill: #174EA6;\n",
              "    }\n",
              "\n",
              "    [theme=dark] .colab-df-convert {\n",
              "      background-color: #3B4455;\n",
              "      fill: #D2E3FC;\n",
              "    }\n",
              "\n",
              "    [theme=dark] .colab-df-convert:hover {\n",
              "      background-color: #434B5C;\n",
              "      box-shadow: 0px 1px 3px 1px rgba(0, 0, 0, 0.15);\n",
              "      filter: drop-shadow(0px 1px 2px rgba(0, 0, 0, 0.3));\n",
              "      fill: #FFFFFF;\n",
              "    }\n",
              "  </style>\n",
              "\n",
              "      <script>\n",
              "        const buttonEl =\n",
              "          document.querySelector('#df-c71e8b7e-de31-41b5-a1e3-847448af1c09 button.colab-df-convert');\n",
              "        buttonEl.style.display =\n",
              "          google.colab.kernel.accessAllowed ? 'block' : 'none';\n",
              "\n",
              "        async function convertToInteractive(key) {\n",
              "          const element = document.querySelector('#df-c71e8b7e-de31-41b5-a1e3-847448af1c09');\n",
              "          const dataTable =\n",
              "            await google.colab.kernel.invokeFunction('convertToInteractive',\n",
              "                                                     [key], {});\n",
              "          if (!dataTable) return;\n",
              "\n",
              "          const docLinkHtml = 'Like what you see? Visit the ' +\n",
              "            '<a target=\"_blank\" href=https://colab.research.google.com/notebooks/data_table.ipynb>data table notebook</a>'\n",
              "            + ' to learn more about interactive tables.';\n",
              "          element.innerHTML = '';\n",
              "          dataTable['output_type'] = 'display_data';\n",
              "          await google.colab.output.renderOutput(dataTable, element);\n",
              "          const docLink = document.createElement('div');\n",
              "          docLink.innerHTML = docLinkHtml;\n",
              "          element.appendChild(docLink);\n",
              "        }\n",
              "      </script>\n",
              "    </div>\n",
              "  </div>\n",
              "  "
            ]
          },
          "metadata": {},
          "execution_count": 128
        }
      ]
    },
    {
      "cell_type": "markdown",
      "source": [
        "The above dataset shows the weekly sales of the firm in different stores belonging to different market size using different promotional techniques."
      ],
      "metadata": {
        "id": "ugGQMiUGbCrf"
      }
    },
    {
      "cell_type": "code",
      "source": [
        "# number of rows and columns\n",
        "print(\"The given dataset has {} number of rows and {} number of features.\".format(df.shape[0],df.shape[1]))"
      ],
      "metadata": {
        "id": "KtMgTbWf32X_",
        "colab": {
          "base_uri": "https://localhost:8080/"
        },
        "outputId": "4a9e86e1-e435-4d9f-9c2d-e1cb8e2dc74b"
      },
      "execution_count": 129,
      "outputs": [
        {
          "output_type": "stream",
          "name": "stdout",
          "text": [
            "The given dataset has 548 number of rows and 7 number of features.\n"
          ]
        }
      ]
    },
    {
      "cell_type": "code",
      "source": [
        "# info : to get the datatype of each column\n",
        "df.info()"
      ],
      "metadata": {
        "id": "UcXiexF032bD",
        "colab": {
          "base_uri": "https://localhost:8080/"
        },
        "outputId": "e8472ef3-259d-44a5-8fb6-0b48c2a5f420"
      },
      "execution_count": 130,
      "outputs": [
        {
          "output_type": "stream",
          "name": "stdout",
          "text": [
            "<class 'pandas.core.frame.DataFrame'>\n",
            "RangeIndex: 548 entries, 0 to 547\n",
            "Data columns (total 7 columns):\n",
            " #   Column            Non-Null Count  Dtype  \n",
            "---  ------            --------------  -----  \n",
            " 0   MarketID          548 non-null    int64  \n",
            " 1   MarketSize        548 non-null    object \n",
            " 2   LocationID        548 non-null    int64  \n",
            " 3   AgeOfStore        548 non-null    int64  \n",
            " 4   Promotion         548 non-null    int64  \n",
            " 5   week              548 non-null    int64  \n",
            " 6   SalesInThousands  548 non-null    float64\n",
            "dtypes: float64(1), int64(5), object(1)\n",
            "memory usage: 30.1+ KB\n"
          ]
        }
      ]
    },
    {
      "cell_type": "markdown",
      "source": [
        "There are all numerical variables except the marketID which has object datatype.\n",
        "\n",
        "\n",
        "Also, it look like there are no null values (due to correct datatype of columns)"
      ],
      "metadata": {
        "id": "u6xYADZRcw5i"
      }
    },
    {
      "cell_type": "code",
      "source": [
        "# describe about the variables\n",
        "round(df.describe(),2)"
      ],
      "metadata": {
        "id": "PA19CzAn32d5",
        "colab": {
          "base_uri": "https://localhost:8080/",
          "height": 300
        },
        "outputId": "a943d765-bbef-44e7-a6eb-ea08ad1984a1"
      },
      "execution_count": 131,
      "outputs": [
        {
          "output_type": "execute_result",
          "data": {
            "text/plain": [
              "       MarketID  LocationID  AgeOfStore  Promotion    week  SalesInThousands\n",
              "count    548.00      548.00      548.00     548.00  548.00            548.00\n",
              "mean       5.72      479.66        8.50       2.03    2.50             53.47\n",
              "std        2.88      287.97        6.64       0.81    1.12             16.76\n",
              "min        1.00        1.00        1.00       1.00    1.00             17.34\n",
              "25%        3.00      216.00        4.00       1.00    1.75             42.54\n",
              "50%        6.00      504.00        7.00       2.00    2.50             50.20\n",
              "75%        8.00      708.00       12.00       3.00    3.25             60.48\n",
              "max       10.00      920.00       28.00       3.00    4.00             99.65"
            ],
            "text/html": [
              "\n",
              "  <div id=\"df-d39fc55c-ea6c-4aa4-a001-820250dfcab5\">\n",
              "    <div class=\"colab-df-container\">\n",
              "      <div>\n",
              "<style scoped>\n",
              "    .dataframe tbody tr th:only-of-type {\n",
              "        vertical-align: middle;\n",
              "    }\n",
              "\n",
              "    .dataframe tbody tr th {\n",
              "        vertical-align: top;\n",
              "    }\n",
              "\n",
              "    .dataframe thead th {\n",
              "        text-align: right;\n",
              "    }\n",
              "</style>\n",
              "<table border=\"1\" class=\"dataframe\">\n",
              "  <thead>\n",
              "    <tr style=\"text-align: right;\">\n",
              "      <th></th>\n",
              "      <th>MarketID</th>\n",
              "      <th>LocationID</th>\n",
              "      <th>AgeOfStore</th>\n",
              "      <th>Promotion</th>\n",
              "      <th>week</th>\n",
              "      <th>SalesInThousands</th>\n",
              "    </tr>\n",
              "  </thead>\n",
              "  <tbody>\n",
              "    <tr>\n",
              "      <th>count</th>\n",
              "      <td>548.00</td>\n",
              "      <td>548.00</td>\n",
              "      <td>548.00</td>\n",
              "      <td>548.00</td>\n",
              "      <td>548.00</td>\n",
              "      <td>548.00</td>\n",
              "    </tr>\n",
              "    <tr>\n",
              "      <th>mean</th>\n",
              "      <td>5.72</td>\n",
              "      <td>479.66</td>\n",
              "      <td>8.50</td>\n",
              "      <td>2.03</td>\n",
              "      <td>2.50</td>\n",
              "      <td>53.47</td>\n",
              "    </tr>\n",
              "    <tr>\n",
              "      <th>std</th>\n",
              "      <td>2.88</td>\n",
              "      <td>287.97</td>\n",
              "      <td>6.64</td>\n",
              "      <td>0.81</td>\n",
              "      <td>1.12</td>\n",
              "      <td>16.76</td>\n",
              "    </tr>\n",
              "    <tr>\n",
              "      <th>min</th>\n",
              "      <td>1.00</td>\n",
              "      <td>1.00</td>\n",
              "      <td>1.00</td>\n",
              "      <td>1.00</td>\n",
              "      <td>1.00</td>\n",
              "      <td>17.34</td>\n",
              "    </tr>\n",
              "    <tr>\n",
              "      <th>25%</th>\n",
              "      <td>3.00</td>\n",
              "      <td>216.00</td>\n",
              "      <td>4.00</td>\n",
              "      <td>1.00</td>\n",
              "      <td>1.75</td>\n",
              "      <td>42.54</td>\n",
              "    </tr>\n",
              "    <tr>\n",
              "      <th>50%</th>\n",
              "      <td>6.00</td>\n",
              "      <td>504.00</td>\n",
              "      <td>7.00</td>\n",
              "      <td>2.00</td>\n",
              "      <td>2.50</td>\n",
              "      <td>50.20</td>\n",
              "    </tr>\n",
              "    <tr>\n",
              "      <th>75%</th>\n",
              "      <td>8.00</td>\n",
              "      <td>708.00</td>\n",
              "      <td>12.00</td>\n",
              "      <td>3.00</td>\n",
              "      <td>3.25</td>\n",
              "      <td>60.48</td>\n",
              "    </tr>\n",
              "    <tr>\n",
              "      <th>max</th>\n",
              "      <td>10.00</td>\n",
              "      <td>920.00</td>\n",
              "      <td>28.00</td>\n",
              "      <td>3.00</td>\n",
              "      <td>4.00</td>\n",
              "      <td>99.65</td>\n",
              "    </tr>\n",
              "  </tbody>\n",
              "</table>\n",
              "</div>\n",
              "      <button class=\"colab-df-convert\" onclick=\"convertToInteractive('df-d39fc55c-ea6c-4aa4-a001-820250dfcab5')\"\n",
              "              title=\"Convert this dataframe to an interactive table.\"\n",
              "              style=\"display:none;\">\n",
              "        \n",
              "  <svg xmlns=\"http://www.w3.org/2000/svg\" height=\"24px\"viewBox=\"0 0 24 24\"\n",
              "       width=\"24px\">\n",
              "    <path d=\"M0 0h24v24H0V0z\" fill=\"none\"/>\n",
              "    <path d=\"M18.56 5.44l.94 2.06.94-2.06 2.06-.94-2.06-.94-.94-2.06-.94 2.06-2.06.94zm-11 1L8.5 8.5l.94-2.06 2.06-.94-2.06-.94L8.5 2.5l-.94 2.06-2.06.94zm10 10l.94 2.06.94-2.06 2.06-.94-2.06-.94-.94-2.06-.94 2.06-2.06.94z\"/><path d=\"M17.41 7.96l-1.37-1.37c-.4-.4-.92-.59-1.43-.59-.52 0-1.04.2-1.43.59L10.3 9.45l-7.72 7.72c-.78.78-.78 2.05 0 2.83L4 21.41c.39.39.9.59 1.41.59.51 0 1.02-.2 1.41-.59l7.78-7.78 2.81-2.81c.8-.78.8-2.07 0-2.86zM5.41 20L4 18.59l7.72-7.72 1.47 1.35L5.41 20z\"/>\n",
              "  </svg>\n",
              "      </button>\n",
              "      \n",
              "  <style>\n",
              "    .colab-df-container {\n",
              "      display:flex;\n",
              "      flex-wrap:wrap;\n",
              "      gap: 12px;\n",
              "    }\n",
              "\n",
              "    .colab-df-convert {\n",
              "      background-color: #E8F0FE;\n",
              "      border: none;\n",
              "      border-radius: 50%;\n",
              "      cursor: pointer;\n",
              "      display: none;\n",
              "      fill: #1967D2;\n",
              "      height: 32px;\n",
              "      padding: 0 0 0 0;\n",
              "      width: 32px;\n",
              "    }\n",
              "\n",
              "    .colab-df-convert:hover {\n",
              "      background-color: #E2EBFA;\n",
              "      box-shadow: 0px 1px 2px rgba(60, 64, 67, 0.3), 0px 1px 3px 1px rgba(60, 64, 67, 0.15);\n",
              "      fill: #174EA6;\n",
              "    }\n",
              "\n",
              "    [theme=dark] .colab-df-convert {\n",
              "      background-color: #3B4455;\n",
              "      fill: #D2E3FC;\n",
              "    }\n",
              "\n",
              "    [theme=dark] .colab-df-convert:hover {\n",
              "      background-color: #434B5C;\n",
              "      box-shadow: 0px 1px 3px 1px rgba(0, 0, 0, 0.15);\n",
              "      filter: drop-shadow(0px 1px 2px rgba(0, 0, 0, 0.3));\n",
              "      fill: #FFFFFF;\n",
              "    }\n",
              "  </style>\n",
              "\n",
              "      <script>\n",
              "        const buttonEl =\n",
              "          document.querySelector('#df-d39fc55c-ea6c-4aa4-a001-820250dfcab5 button.colab-df-convert');\n",
              "        buttonEl.style.display =\n",
              "          google.colab.kernel.accessAllowed ? 'block' : 'none';\n",
              "\n",
              "        async function convertToInteractive(key) {\n",
              "          const element = document.querySelector('#df-d39fc55c-ea6c-4aa4-a001-820250dfcab5');\n",
              "          const dataTable =\n",
              "            await google.colab.kernel.invokeFunction('convertToInteractive',\n",
              "                                                     [key], {});\n",
              "          if (!dataTable) return;\n",
              "\n",
              "          const docLinkHtml = 'Like what you see? Visit the ' +\n",
              "            '<a target=\"_blank\" href=https://colab.research.google.com/notebooks/data_table.ipynb>data table notebook</a>'\n",
              "            + ' to learn more about interactive tables.';\n",
              "          element.innerHTML = '';\n",
              "          dataTable['output_type'] = 'display_data';\n",
              "          await google.colab.output.renderOutput(dataTable, element);\n",
              "          const docLink = document.createElement('div');\n",
              "          docLink.innerHTML = docLinkHtml;\n",
              "          element.appendChild(docLink);\n",
              "        }\n",
              "      </script>\n",
              "    </div>\n",
              "  </div>\n",
              "  "
            ]
          },
          "metadata": {},
          "execution_count": 131
        }
      ]
    },
    {
      "cell_type": "code",
      "source": [
        "# knowlegde about the object variable\n",
        "df['MarketSize'].value_counts()"
      ],
      "metadata": {
        "colab": {
          "base_uri": "https://localhost:8080/"
        },
        "id": "9fly61RzC_DM",
        "outputId": "9753daec-8f66-44d7-f06c-a7c22a964d5a"
      },
      "execution_count": 132,
      "outputs": [
        {
          "output_type": "execute_result",
          "data": {
            "text/plain": [
              "Medium    320\n",
              "Large     168\n",
              "Small      60\n",
              "Name: MarketSize, dtype: int64"
            ]
          },
          "metadata": {},
          "execution_count": 132
        }
      ]
    },
    {
      "cell_type": "markdown",
      "source": [
        "* On average , sales are 53 thousands dollars. If we look at the way sales changes(from min to 100%) there appears to be les number of outliers in it.\n",
        "\n",
        "* Age of stores lies between 1 and 28 with average age of 8 years.\n",
        "\n",
        "\n",
        "\n",
        "* About 60 percent of the markets are of medium size. Also there are about 90 percent of market are non-small (medium+ large).\n",
        "\n",
        "\n"
      ],
      "metadata": {
        "id": "z-kPJuTIB2OE"
      }
    },
    {
      "cell_type": "code",
      "source": [
        "# number of unique values in each feature\n",
        "df.nunique()"
      ],
      "metadata": {
        "id": "TZmhF2en32f1",
        "colab": {
          "base_uri": "https://localhost:8080/"
        },
        "outputId": "5fe9a316-837e-4980-f24c-bf53fb6be4f7"
      },
      "execution_count": 133,
      "outputs": [
        {
          "output_type": "execute_result",
          "data": {
            "text/plain": [
              "MarketID             10\n",
              "MarketSize            3\n",
              "LocationID          137\n",
              "AgeOfStore           25\n",
              "Promotion             3\n",
              "week                  4\n",
              "SalesInThousands    517\n",
              "dtype: int64"
            ]
          },
          "metadata": {},
          "execution_count": 133
        }
      ]
    },
    {
      "cell_type": "code",
      "source": [
        "# unique values\n",
        "for x in df.columns:\n",
        "  if x != 'SalesInThousands':\n",
        "    print(\"The unique values of {} are {}\".format(x,pd.unique(df[x])))"
      ],
      "metadata": {
        "colab": {
          "base_uri": "https://localhost:8080/"
        },
        "id": "hmWNBWP4EJXR",
        "outputId": "b3d43b81-c1dd-4f62-9834-bde3f0ef6ac3"
      },
      "execution_count": 134,
      "outputs": [
        {
          "output_type": "stream",
          "name": "stdout",
          "text": [
            "The unique values of MarketID are [ 1  2  3  4  5  6  7  8  9 10]\n",
            "The unique values of MarketSize are ['Medium' 'Small' 'Large']\n",
            "The unique values of LocationID are [  1   2   3   4   5   6   7   8   9  10  11  12  13 101 102 103 104 105\n",
            " 106 201 202 203 204 205 206 207 208 209 210 211 212 213 214 215 216 217\n",
            " 218 219 220 221 222 301 302 303 304 305 306 307 308 309 401 402 403 404\n",
            " 405 406 407 408 409 410 411 412 413 414 415 501 502 503 504 505 506 507\n",
            " 508 509 510 511 512 513 514 515 601 602 603 604 605 606 607 608 609 610\n",
            " 611 612 613 614 615 701 702 703 704 705 706 707 708 709 710 711 712 801\n",
            " 802 803 804 805 806 807 808 809 810 901 902 903 904 905 906 907 908 909\n",
            " 910 911 912 913 914 915 916 917 918 919 920]\n",
            "The unique values of AgeOfStore are [ 4  5 12  1 10 15  6 22  8 19 11 13  3  7  2 23  9 28 25 14 24 18 27 17\n",
            " 20]\n",
            "The unique values of Promotion are [3 2 1]\n",
            "The unique values of week are [1 2 3 4]\n"
          ]
        }
      ]
    },
    {
      "cell_type": "markdown",
      "source": [
        "* There are 10 markets (1 to 10)\n",
        "* There are four weeks for promotion (1,2,3,4)\n"
      ],
      "metadata": {
        "id": "ZqmXuKNSE3qZ"
      }
    },
    {
      "cell_type": "markdown",
      "source": [
        "Now, we will check the correlation between various features"
      ],
      "metadata": {
        "id": "8BDq-gmPFTSK"
      }
    },
    {
      "cell_type": "code",
      "source": [
        "# using corr method of pandas\n",
        "round(df.corr(),2)"
      ],
      "metadata": {
        "colab": {
          "base_uri": "https://localhost:8080/",
          "height": 237
        },
        "id": "h2-ROx9YFQx9",
        "outputId": "430bb456-e8dd-4cdf-f86e-f7f7885b98fd"
      },
      "execution_count": 135,
      "outputs": [
        {
          "output_type": "execute_result",
          "data": {
            "text/plain": [
              "                  MarketID  LocationID  AgeOfStore  Promotion  week  \\\n",
              "MarketID              1.00        1.00       -0.05      -0.05 -0.00   \n",
              "LocationID            1.00        1.00       -0.05      -0.05 -0.00   \n",
              "AgeOfStore           -0.05       -0.05        1.00       0.06  0.00   \n",
              "Promotion            -0.05       -0.05        0.06       1.00  0.00   \n",
              "week                 -0.00       -0.00        0.00       0.00  1.00   \n",
              "SalesInThousands     -0.19       -0.19       -0.03      -0.06 -0.01   \n",
              "\n",
              "                  SalesInThousands  \n",
              "MarketID                     -0.19  \n",
              "LocationID                   -0.19  \n",
              "AgeOfStore                   -0.03  \n",
              "Promotion                    -0.06  \n",
              "week                         -0.01  \n",
              "SalesInThousands              1.00  "
            ],
            "text/html": [
              "\n",
              "  <div id=\"df-e5816c6e-96b7-4001-952d-2dadbe14807c\">\n",
              "    <div class=\"colab-df-container\">\n",
              "      <div>\n",
              "<style scoped>\n",
              "    .dataframe tbody tr th:only-of-type {\n",
              "        vertical-align: middle;\n",
              "    }\n",
              "\n",
              "    .dataframe tbody tr th {\n",
              "        vertical-align: top;\n",
              "    }\n",
              "\n",
              "    .dataframe thead th {\n",
              "        text-align: right;\n",
              "    }\n",
              "</style>\n",
              "<table border=\"1\" class=\"dataframe\">\n",
              "  <thead>\n",
              "    <tr style=\"text-align: right;\">\n",
              "      <th></th>\n",
              "      <th>MarketID</th>\n",
              "      <th>LocationID</th>\n",
              "      <th>AgeOfStore</th>\n",
              "      <th>Promotion</th>\n",
              "      <th>week</th>\n",
              "      <th>SalesInThousands</th>\n",
              "    </tr>\n",
              "  </thead>\n",
              "  <tbody>\n",
              "    <tr>\n",
              "      <th>MarketID</th>\n",
              "      <td>1.00</td>\n",
              "      <td>1.00</td>\n",
              "      <td>-0.05</td>\n",
              "      <td>-0.05</td>\n",
              "      <td>-0.00</td>\n",
              "      <td>-0.19</td>\n",
              "    </tr>\n",
              "    <tr>\n",
              "      <th>LocationID</th>\n",
              "      <td>1.00</td>\n",
              "      <td>1.00</td>\n",
              "      <td>-0.05</td>\n",
              "      <td>-0.05</td>\n",
              "      <td>-0.00</td>\n",
              "      <td>-0.19</td>\n",
              "    </tr>\n",
              "    <tr>\n",
              "      <th>AgeOfStore</th>\n",
              "      <td>-0.05</td>\n",
              "      <td>-0.05</td>\n",
              "      <td>1.00</td>\n",
              "      <td>0.06</td>\n",
              "      <td>0.00</td>\n",
              "      <td>-0.03</td>\n",
              "    </tr>\n",
              "    <tr>\n",
              "      <th>Promotion</th>\n",
              "      <td>-0.05</td>\n",
              "      <td>-0.05</td>\n",
              "      <td>0.06</td>\n",
              "      <td>1.00</td>\n",
              "      <td>0.00</td>\n",
              "      <td>-0.06</td>\n",
              "    </tr>\n",
              "    <tr>\n",
              "      <th>week</th>\n",
              "      <td>-0.00</td>\n",
              "      <td>-0.00</td>\n",
              "      <td>0.00</td>\n",
              "      <td>0.00</td>\n",
              "      <td>1.00</td>\n",
              "      <td>-0.01</td>\n",
              "    </tr>\n",
              "    <tr>\n",
              "      <th>SalesInThousands</th>\n",
              "      <td>-0.19</td>\n",
              "      <td>-0.19</td>\n",
              "      <td>-0.03</td>\n",
              "      <td>-0.06</td>\n",
              "      <td>-0.01</td>\n",
              "      <td>1.00</td>\n",
              "    </tr>\n",
              "  </tbody>\n",
              "</table>\n",
              "</div>\n",
              "      <button class=\"colab-df-convert\" onclick=\"convertToInteractive('df-e5816c6e-96b7-4001-952d-2dadbe14807c')\"\n",
              "              title=\"Convert this dataframe to an interactive table.\"\n",
              "              style=\"display:none;\">\n",
              "        \n",
              "  <svg xmlns=\"http://www.w3.org/2000/svg\" height=\"24px\"viewBox=\"0 0 24 24\"\n",
              "       width=\"24px\">\n",
              "    <path d=\"M0 0h24v24H0V0z\" fill=\"none\"/>\n",
              "    <path d=\"M18.56 5.44l.94 2.06.94-2.06 2.06-.94-2.06-.94-.94-2.06-.94 2.06-2.06.94zm-11 1L8.5 8.5l.94-2.06 2.06-.94-2.06-.94L8.5 2.5l-.94 2.06-2.06.94zm10 10l.94 2.06.94-2.06 2.06-.94-2.06-.94-.94-2.06-.94 2.06-2.06.94z\"/><path d=\"M17.41 7.96l-1.37-1.37c-.4-.4-.92-.59-1.43-.59-.52 0-1.04.2-1.43.59L10.3 9.45l-7.72 7.72c-.78.78-.78 2.05 0 2.83L4 21.41c.39.39.9.59 1.41.59.51 0 1.02-.2 1.41-.59l7.78-7.78 2.81-2.81c.8-.78.8-2.07 0-2.86zM5.41 20L4 18.59l7.72-7.72 1.47 1.35L5.41 20z\"/>\n",
              "  </svg>\n",
              "      </button>\n",
              "      \n",
              "  <style>\n",
              "    .colab-df-container {\n",
              "      display:flex;\n",
              "      flex-wrap:wrap;\n",
              "      gap: 12px;\n",
              "    }\n",
              "\n",
              "    .colab-df-convert {\n",
              "      background-color: #E8F0FE;\n",
              "      border: none;\n",
              "      border-radius: 50%;\n",
              "      cursor: pointer;\n",
              "      display: none;\n",
              "      fill: #1967D2;\n",
              "      height: 32px;\n",
              "      padding: 0 0 0 0;\n",
              "      width: 32px;\n",
              "    }\n",
              "\n",
              "    .colab-df-convert:hover {\n",
              "      background-color: #E2EBFA;\n",
              "      box-shadow: 0px 1px 2px rgba(60, 64, 67, 0.3), 0px 1px 3px 1px rgba(60, 64, 67, 0.15);\n",
              "      fill: #174EA6;\n",
              "    }\n",
              "\n",
              "    [theme=dark] .colab-df-convert {\n",
              "      background-color: #3B4455;\n",
              "      fill: #D2E3FC;\n",
              "    }\n",
              "\n",
              "    [theme=dark] .colab-df-convert:hover {\n",
              "      background-color: #434B5C;\n",
              "      box-shadow: 0px 1px 3px 1px rgba(0, 0, 0, 0.15);\n",
              "      filter: drop-shadow(0px 1px 2px rgba(0, 0, 0, 0.3));\n",
              "      fill: #FFFFFF;\n",
              "    }\n",
              "  </style>\n",
              "\n",
              "      <script>\n",
              "        const buttonEl =\n",
              "          document.querySelector('#df-e5816c6e-96b7-4001-952d-2dadbe14807c button.colab-df-convert');\n",
              "        buttonEl.style.display =\n",
              "          google.colab.kernel.accessAllowed ? 'block' : 'none';\n",
              "\n",
              "        async function convertToInteractive(key) {\n",
              "          const element = document.querySelector('#df-e5816c6e-96b7-4001-952d-2dadbe14807c');\n",
              "          const dataTable =\n",
              "            await google.colab.kernel.invokeFunction('convertToInteractive',\n",
              "                                                     [key], {});\n",
              "          if (!dataTable) return;\n",
              "\n",
              "          const docLinkHtml = 'Like what you see? Visit the ' +\n",
              "            '<a target=\"_blank\" href=https://colab.research.google.com/notebooks/data_table.ipynb>data table notebook</a>'\n",
              "            + ' to learn more about interactive tables.';\n",
              "          element.innerHTML = '';\n",
              "          dataTable['output_type'] = 'display_data';\n",
              "          await google.colab.output.renderOutput(dataTable, element);\n",
              "          const docLink = document.createElement('div');\n",
              "          docLink.innerHTML = docLinkHtml;\n",
              "          element.appendChild(docLink);\n",
              "        }\n",
              "      </script>\n",
              "    </div>\n",
              "  </div>\n",
              "  "
            ]
          },
          "metadata": {},
          "execution_count": 135
        }
      ]
    },
    {
      "cell_type": "code",
      "source": [
        "# using seaborn method\n",
        "correl = df.corr()\n",
        "sns.heatmap(correl)"
      ],
      "metadata": {
        "colab": {
          "base_uri": "https://localhost:8080/",
          "height": 366
        },
        "id": "Ip-GfT72F0AV",
        "outputId": "931580b2-cebc-4a24-8eb3-625203d712e9"
      },
      "execution_count": 136,
      "outputs": [
        {
          "output_type": "execute_result",
          "data": {
            "text/plain": [
              "<matplotlib.axes._subplots.AxesSubplot at 0x7f1245b90810>"
            ]
          },
          "metadata": {},
          "execution_count": 136
        },
        {
          "output_type": "display_data",
          "data": {
            "text/plain": [
              "<Figure size 432x288 with 2 Axes>"
            ],
            "image/png": "[encoded data removed]"
          },
          "metadata": {}
        }
      ]
    },
    {
      "cell_type": "markdown",
      "source": [
        "Insights about the correlation:\n",
        "\n",
        "\n",
        "There seems to be lack of correlation in the numerical variables (that is either quite low postive correlation or low negative correlation."
      ],
      "metadata": {
        "id": "f26kRD0nLWH4"
      }
    },
    {
      "cell_type": "markdown",
      "source": [
        "Promotion wise :\n",
        "\n",
        "\n",
        "We will explore the dataset on the basis of promotion, that is how sales vary based on the promotion chosen."
      ],
      "metadata": {
        "id": "za7TRa-oZq__"
      }
    },
    {
      "cell_type": "code",
      "source": [
        "# NUMBER OF SALES OF DIFFERENT PROMOTIONS\n",
        "sns.countplot(df['Promotion'])\n",
        "plt.title(\"Number of sales per promotion\",fontsize=15)"
      ],
      "metadata": {
        "colab": {
          "base_uri": "https://localhost:8080/",
          "height": 314
        },
        "id": "ynUaflosZpe7",
        "outputId": "45a0cbd7-f0d3-4133-e3cf-9f4c9a73cb22"
      },
      "execution_count": 137,
      "outputs": [
        {
          "output_type": "execute_result",
          "data": {
            "text/plain": [
              "Text(0.5, 1.0, 'Number of sales per promotion')"
            ]
          },
          "metadata": {},
          "execution_count": 137
        },
        {
          "output_type": "display_data",
          "data": {
            "text/plain": [
              "<Figure size 432x288 with 1 Axes>"
            ],
            "image/png": "[encoded data removed]"
          },
          "metadata": {}
        }
      ]
    },
    {
      "cell_type": "code",
      "source": [
        "# average sales of each promotion\n",
        "sns.barplot(df['Promotion'],df['SalesInThousands'])\n",
        "plt.title(\"Sales per promotion\",fontsize=15)"
      ],
      "metadata": {
        "colab": {
          "base_uri": "https://localhost:8080/",
          "height": 314
        },
        "id": "JFZmtVgdaVl2",
        "outputId": "efd521ca-5138-4afd-918a-385008d38f2e"
      },
      "execution_count": 138,
      "outputs": [
        {
          "output_type": "execute_result",
          "data": {
            "text/plain": [
              "Text(0.5, 1.0, 'Sales per promotion')"
            ]
          },
          "metadata": {},
          "execution_count": 138
        },
        {
          "output_type": "display_data",
          "data": {
            "text/plain": [
              "<Figure size 432x288 with 1 Axes>"
            ],
            "image/png": "[encoded data removed]"
          },
          "metadata": {}
        }
      ]
    },
    {
      "cell_type": "markdown",
      "source": [
        "Insights\n",
        "\n",
        "1. Although there are more number of sales from promotion_2, yet it accounst for a less amount of sales on average.\n",
        "2. Sales from promotion_1 and promotion_3 are virtually same (overall)."
      ],
      "metadata": {
        "id": "83gsyulgareK"
      }
    },
    {
      "cell_type": "markdown",
      "source": [
        "# A/A test\n",
        "\n",
        "A/A test is a test of presence of randomness in the sample. On the basis of these tests, we can find whether it is good to go ahead and conduct A/B testing or not.\n",
        " Now,we will conduct the A/A test to know whether the sales in thousands are of random nature or not."
      ],
      "metadata": {
        "id": "ue-NJGsgv0Iv"
      }
    },
    {
      "cell_type": "code",
      "source": [
        "# create a rand value using numpy rand\n",
        "x= np.random.rand()\n",
        "rand_val =[]\n",
        "for y in df['SalesInThousands']:\n",
        "  rand_val.append(np.random.rand())\n",
        "df['rand1or0']  = rand_val"
      ],
      "metadata": {
        "id": "r8_YOneISu-h"
      },
      "execution_count": 139,
      "outputs": []
    },
    {
      "cell_type": "code",
      "source": [
        "# taking two group of values\n",
        "less_than_05 = df[df['rand1or0']<=0.5]['SalesInThousands']\n",
        "more_than_05 = df[df['rand1or0']>0.5]['SalesInThousands']"
      ],
      "metadata": {
        "id": "NBIZHa7cSvWu"
      },
      "execution_count": 140,
      "outputs": []
    },
    {
      "cell_type": "code",
      "source": [
        "# checking the p-value and t-statistics\n",
        "from scipy.stats import ttest_ind\n",
        "res = ttest_ind(less_than_05,more_than_05)\n",
        "t_stat, p_value = res[0],res[1]\n",
        "if p_value < 0.05:\n",
        "  print(\"there is a significance difference in two samples implying that there is a presence of bias in these samples\")\n",
        "else:\n",
        "  print(\"There is no difference in these samples which implies the samples are unbiased and hence, of random nature.\") "
      ],
      "metadata": {
        "colab": {
          "base_uri": "https://localhost:8080/"
        },
        "id": "1aT2v_09N_4b",
        "outputId": "f898db5b-c04c-4688-8fcd-fe14c1827397"
      },
      "execution_count": 141,
      "outputs": [
        {
          "output_type": "stream",
          "name": "stdout",
          "text": [
            "There is no difference in these samples which implies the samples are unbiased and hence, of random nature.\n"
          ]
        }
      ]
    },
    {
      "cell_type": "markdown",
      "source": [
        "From the above A/A test, we found out that the samples of sales is of random nature which suggests that the A/B testing done on these samples would be authentic and result-yielding."
      ],
      "metadata": {
        "id": "wSoBgvi4QjYY"
      }
    },
    {
      "cell_type": "markdown",
      "source": [
        "# A/ B testing\n",
        "\n",
        "Now, we are aware that our samples are of random nature. Thanks to this, we will now conduct A/B test to know which promotion line works best for the firm.\n",
        "\n",
        "\n",
        "Through A/ B testing, we would like to answer the following questions:\n",
        "\n",
        "\n",
        "1. How promotion affects the sales of a market based on its size (that is how same size market works in different promotion channel)\n",
        "\n",
        "\n",
        "2. How promotion affects the market based on week, that is which promotion works based in each week.\n",
        "3. How promotion impacts the sales based on age of store.\n",
        "4. which promotion performs well over others when we compare it over location wise."
      ],
      "metadata": {
        "id": "wg5CiLxmRyfB"
      }
    },
    {
      "cell_type": "markdown",
      "source": [
        "## 1.  How promotion affects the sales of a market based on its size (that is how same size market works in different promotion channel)\n",
        "\n",
        "\n",
        "In this , we will first see which promotions are having a touch competition in sales when compared marketwise. Then based on it, we will see how  we will conduct the hypothesis testing.\n",
        "\n"
      ],
      "metadata": {
        "id": "totHAHRlZbof"
      }
    },
    {
      "cell_type": "code",
      "source": [
        "# size wise \n",
        "small_sales = df[df['MarketSize']=='Small'][['SalesInThousands','Promotion']]\n",
        "med_sales = df[df['MarketSize']=='Medium'][['SalesInThousands','Promotion']]\n",
        "lar_sales  = df[df['MarketSize']=='Large'][['SalesInThousands','Promotion']]"
      ],
      "metadata": {
        "id": "D7P27MgtPY80"
      },
      "execution_count": 142,
      "outputs": []
    },
    {
      "cell_type": "code",
      "source": [
        "# barplot \n",
        "sns.barplot(small_sales['Promotion'],small_sales['SalesInThousands'])\n",
        "plt.title(\"Small Size Firm Sales\", fontsize=15)"
      ],
      "metadata": {
        "colab": {
          "base_uri": "https://localhost:8080/",
          "height": 314
        },
        "id": "1tSKB94UTH2k",
        "outputId": "2f95368d-2197-4fdf-ae7e-f3f37bbd53e7"
      },
      "execution_count": 143,
      "outputs": [
        {
          "output_type": "execute_result",
          "data": {
            "text/plain": [
              "Text(0.5, 1.0, 'Small Size Firm Sales')"
            ]
          },
          "metadata": {},
          "execution_count": 143
        },
        {
          "output_type": "display_data",
          "data": {
            "text/plain": [
              "<Figure size 432x288 with 1 Axes>"
            ],
            "image/png": "[encoded data removed]"
          },
          "metadata": {}
        }
      ]
    },
    {
      "cell_type": "code",
      "source": [
        "sns.barplot(med_sales['Promotion'],med_sales['SalesInThousands'])\n",
        "plt.title(\"Medium Size firm Sales\",fontsize=15)"
      ],
      "metadata": {
        "colab": {
          "base_uri": "https://localhost:8080/",
          "height": 314
        },
        "id": "8El89tg8WM4J",
        "outputId": "d6105949-876d-4b1c-ad07-237c4f7d785d"
      },
      "execution_count": 144,
      "outputs": [
        {
          "output_type": "execute_result",
          "data": {
            "text/plain": [
              "Text(0.5, 1.0, 'Medium Size firm Sales')"
            ]
          },
          "metadata": {},
          "execution_count": 144
        },
        {
          "output_type": "display_data",
          "data": {
            "text/plain": [
              "<Figure size 432x288 with 1 Axes>"
            ],
            "image/png": "[encoded data removed]"
          },
          "metadata": {}
        }
      ]
    },
    {
      "cell_type": "code",
      "source": [
        "sns.barplot(lar_sales['Promotion'],lar_sales['SalesInThousands'])\n",
        "plt.title(\"large Size firm Sales\",fontsize=15)"
      ],
      "metadata": {
        "colab": {
          "base_uri": "https://localhost:8080/",
          "height": 314
        },
        "id": "zqe1aqAcWU5y",
        "outputId": "448f6e6f-1970-42ba-9d93-4b92ab2fd889"
      },
      "execution_count": 145,
      "outputs": [
        {
          "output_type": "execute_result",
          "data": {
            "text/plain": [
              "Text(0.5, 1.0, 'large Size firm Sales')"
            ]
          },
          "metadata": {},
          "execution_count": 145
        },
        {
          "output_type": "display_data",
          "data": {
            "text/plain": [
              "<Figure size 432x288 with 1 Axes>"
            ],
            "image/png": "[encoded data removed]"
          },
          "metadata": {}
        }
      ]
    },
    {
      "cell_type": "markdown",
      "source": [
        "From the above graph , we find out there is promotion_2 performs least of three.\n",
        "\n",
        "While there remains doubt in case of promotion_1 and promotion_3. To get more evidence we will test it through the hypothesis test:\n",
        "\n",
        "Ho : THere is no difference between salesinthoushand between promotion_1 and promotion_3.\n",
        "\n",
        "Ha: There is a significance difference between sales_in_thousand between promotion_1 and promotion_3.\n",
        "\n"
      ],
      "metadata": {
        "id": "JLk43ogOYVgw"
      }
    },
    {
      "cell_type": "code",
      "source": [
        "# for small size\n",
        "res = ttest_ind(small_sales[small_sales['Promotion']==1]['SalesInThousands'],small_sales[small_sales['Promotion']==3]['SalesInThousands'])\n",
        "t_stat, p_value = res[0],res[1]\n",
        "if p_value < 0.05:\n",
        "  print(\"P-value is {}, so there is a difference in sales for promotion 1 and promotion 3 for small size firms\".format(p_value))\n",
        "else:\n",
        "  print(\"P-value is {},hence there is no significant difference in sales for promotion 1 and promition 3 for small size firms\".format(p_value)  )"
      ],
      "metadata": {
        "id": "uU6Qe39QXBb2",
        "colab": {
          "base_uri": "https://localhost:8080/"
        },
        "outputId": "05752934-9b1a-48af-c8a0-ad8014a67484"
      },
      "execution_count": 146,
      "outputs": [
        {
          "output_type": "stream",
          "name": "stdout",
          "text": [
            "P-value is 0.6810867067433423,hence there is no significant difference in sales for promotion 1 and promition 3 for small size firms\n"
          ]
        }
      ]
    },
    {
      "cell_type": "code",
      "source": [
        "# for large size\n",
        "res = ttest_ind(lar_sales[lar_sales['Promotion']==1]['SalesInThousands'],lar_sales[lar_sales['Promotion']==3]['SalesInThousands'])\n",
        "t_stat, p_value = res[0],res[1]\n",
        "if p_value < 0.05:\n",
        "  print(\"P-value is {}, so there is a difference in sales for promotion 1 and promotion 3 for large size firms\".format(p_value))\n",
        "else:\n",
        "  print(\"P-value is {},hence there is no significant difference in sales for promotion 1 and promition 3 for large size firms\".format(p_value)  )"
      ],
      "metadata": {
        "id": "y6XTm9XncOd6",
        "colab": {
          "base_uri": "https://localhost:8080/"
        },
        "outputId": "1856b0f8-ce25-4545-cc0d-5158743080f7"
      },
      "execution_count": 147,
      "outputs": [
        {
          "output_type": "stream",
          "name": "stdout",
          "text": [
            "P-value is 0.5063120169025387,hence there is no significant difference in sales for promotion 1 and promition 3 for large size firms\n"
          ]
        }
      ]
    },
    {
      "cell_type": "markdown",
      "source": [
        "From the above, we find the promotion 2 works worst for all size of markets. While there appears to be no difference in average sales from promotion 1 and promotion 3.\n",
        "\n",
        "Now,we will dive further, like week wise promotion impact on sales.\n",
        "\n",
        "\n",
        "## 2. How promotion affects the market based on week, that is which promotion works based in each week.\n",
        "\n",
        "\n",
        "\n",
        "Ho : THere is no difference between salesinthoushand between promotion_1 and promotion_3 across weeks.\n",
        "\n",
        "Ha: There is a significance difference between sales_in_thousand between promotion_1 and promotion_3 across weeks.\n",
        "\n",
        "\n"
      ],
      "metadata": {
        "id": "f8w1qacMsz3a"
      }
    },
    {
      "cell_type": "code",
      "source": [
        "df.columns"
      ],
      "metadata": {
        "colab": {
          "base_uri": "https://localhost:8080/"
        },
        "id": "mbNUuq_Cr2Tj",
        "outputId": "f47d135d-bf7a-4365-bce8-2286cbfa813a"
      },
      "execution_count": 148,
      "outputs": [
        {
          "output_type": "execute_result",
          "data": {
            "text/plain": [
              "Index(['MarketID', 'MarketSize', 'LocationID', 'AgeOfStore', 'Promotion',\n",
              "       'week', 'SalesInThousands', 'rand1or0'],\n",
              "      dtype='object')"
            ]
          },
          "metadata": {},
          "execution_count": 148
        }
      ]
    },
    {
      "cell_type": "code",
      "source": [
        "# equal number of observations for each week\n",
        "df['week'].value_counts()\n"
      ],
      "metadata": {
        "colab": {
          "base_uri": "https://localhost:8080/"
        },
        "id": "TtARTZpquxOb",
        "outputId": "37b25096-b525-40d4-e363-393298a81721"
      },
      "execution_count": 149,
      "outputs": [
        {
          "output_type": "execute_result",
          "data": {
            "text/plain": [
              "1    137\n",
              "2    137\n",
              "3    137\n",
              "4    137\n",
              "Name: week, dtype: int64"
            ]
          },
          "metadata": {},
          "execution_count": 149
        }
      ]
    },
    {
      "cell_type": "code",
      "source": [
        "# division based on week\n",
        "# size wise \n",
        "first_sales = df[df['week']==1][['SalesInThousands','Promotion']]\n",
        "sec_sales = df[df['week']==2][['SalesInThousands','Promotion']]\n",
        "third_sales  = df[df['week']==3][['SalesInThousands','Promotion']]\n",
        "four_sales = df[df['week']==4][['SalesInThousands','Promotion']]"
      ],
      "metadata": {
        "id": "F-fdJT2Wu6JX"
      },
      "execution_count": 150,
      "outputs": []
    },
    {
      "cell_type": "code",
      "source": [
        "# first sales average sales\n",
        "sns.barplot(first_sales['Promotion'],first_sales['SalesInThousands'])\n",
        "plt.title(\"Sales in first week\",fontsize=15)"
      ],
      "metadata": {
        "colab": {
          "base_uri": "https://localhost:8080/",
          "height": 314
        },
        "id": "4TUgiIT7vefs",
        "outputId": "1c70cbcd-ef0b-44cf-e071-d5f27eee3eb7"
      },
      "execution_count": 151,
      "outputs": [
        {
          "output_type": "execute_result",
          "data": {
            "text/plain": [
              "Text(0.5, 1.0, 'Sales in first week')"
            ]
          },
          "metadata": {},
          "execution_count": 151
        },
        {
          "output_type": "display_data",
          "data": {
            "text/plain": [
              "<Figure size 432x288 with 1 Axes>"
            ],
            "image/png": "[encoded data removed]"
          },
          "metadata": {}
        }
      ]
    },
    {
      "cell_type": "code",
      "source": [
        "# second week sales\n",
        "sns.barplot(sec_sales['Promotion'],sec_sales['SalesInThousands'])\n",
        "plt.title(\"Sales in second week\",fontsize=15)"
      ],
      "metadata": {
        "colab": {
          "base_uri": "https://localhost:8080/",
          "height": 314
        },
        "id": "M87t84DtvswM",
        "outputId": "015d429c-dee1-4b14-f1a0-11ca677cc8d2"
      },
      "execution_count": 152,
      "outputs": [
        {
          "output_type": "execute_result",
          "data": {
            "text/plain": [
              "Text(0.5, 1.0, 'Sales in second week')"
            ]
          },
          "metadata": {},
          "execution_count": 152
        },
        {
          "output_type": "display_data",
          "data": {
            "text/plain": [
              "<Figure size 432x288 with 1 Axes>"
            ],
            "image/png": "[encoded data removed]"
          },
          "metadata": {}
        }
      ]
    },
    {
      "cell_type": "code",
      "source": [
        "# third week sales\n",
        "sns.barplot(third_sales['Promotion'],third_sales['SalesInThousands'])\n",
        "plt.title(\"Sales in third week\",fontsize=15)"
      ],
      "metadata": {
        "colab": {
          "base_uri": "https://localhost:8080/",
          "height": 314
        },
        "id": "00d1PCZ5v9Ke",
        "outputId": "4c0e82b1-823c-48c7-dc5f-7d8d3000dc83"
      },
      "execution_count": 153,
      "outputs": [
        {
          "output_type": "execute_result",
          "data": {
            "text/plain": [
              "Text(0.5, 1.0, 'Sales in third week')"
            ]
          },
          "metadata": {},
          "execution_count": 153
        },
        {
          "output_type": "display_data",
          "data": {
            "text/plain": [
              "<Figure size 432x288 with 1 Axes>"
            ],
            "image/png": "[encoded data removed]"
          },
          "metadata": {}
        }
      ]
    },
    {
      "cell_type": "code",
      "source": [
        "# fourth week sales\n",
        "sns.barplot(third_sales['Promotion'],third_sales['SalesInThousands'])\n",
        "plt.title(\"Sales in fourth week\",fontsize=15)"
      ],
      "metadata": {
        "colab": {
          "base_uri": "https://localhost:8080/",
          "height": 314
        },
        "id": "9CGSWgPSv-uF",
        "outputId": "205ab134-fa58-4a38-e338-527021430fa8"
      },
      "execution_count": 154,
      "outputs": [
        {
          "output_type": "execute_result",
          "data": {
            "text/plain": [
              "Text(0.5, 1.0, 'Sales in fourth week')"
            ]
          },
          "metadata": {},
          "execution_count": 154
        },
        {
          "output_type": "display_data",
          "data": {
            "text/plain": [
              "<Figure size 432x288 with 1 Axes>"
            ],
            "image/png": "[encoded data removed]"
          },
          "metadata": {}
        }
      ]
    },
    {
      "cell_type": "code",
      "source": [
        "# for first week\n",
        "res = ttest_ind(first_sales[first_sales['Promotion']==1]['SalesInThousands'],first_sales[first_sales['Promotion']==3]['SalesInThousands'])\n",
        "t_stat, p_value = res[0],res[1]\n",
        "if p_value < 0.05:\n",
        "  print(\"P-value is {}, so there is a difference in sales for promotion 1 and promotion 3 for first_week firms\".format(p_value))\n",
        "else:\n",
        "  print(\"P-value is {},hence there is no significant difference in sales for promotion 1 and promition 3 for first_week firms\".format(p_value)  )"
      ],
      "metadata": {
        "colab": {
          "base_uri": "https://localhost:8080/"
        },
        "id": "u-CMnfD_wPYa",
        "outputId": "e685c217-cc66-4a74-f660-0f69c19ba749"
      },
      "execution_count": 155,
      "outputs": [
        {
          "output_type": "stream",
          "name": "stdout",
          "text": [
            "P-value is 0.5050662633693142,hence there is no significant difference in sales for promotion 1 and promition 3 for first_week firms\n"
          ]
        }
      ]
    },
    {
      "cell_type": "code",
      "source": [
        "# for second week\n",
        "res = ttest_ind(sec_sales[sec_sales['Promotion']==1]['SalesInThousands'],sec_sales[sec_sales['Promotion']==3]['SalesInThousands'])\n",
        "t_stat, p_value = res[0],res[1]\n",
        "if p_value < 0.05:\n",
        "  print(\"P-value is {}, so there is a difference in sales for promotion 1 and promotion 3 for second week\".format(p_value))\n",
        "else:\n",
        "  print(\"P-value is {},hence there is no significant difference in sales for promotion 1 and promition 3 for second week\".format(p_value)  )"
      ],
      "metadata": {
        "colab": {
          "base_uri": "https://localhost:8080/"
        },
        "id": "CqEhmLc1wfcI",
        "outputId": "ec40afc3-6ce8-4174-fb24-3ba9fd30d583"
      },
      "execution_count": 156,
      "outputs": [
        {
          "output_type": "stream",
          "name": "stdout",
          "text": [
            "P-value is 0.7733797603891037,hence there is no significant difference in sales for promotion 1 and promition 3 for second week\n"
          ]
        }
      ]
    },
    {
      "cell_type": "code",
      "source": [
        "# for third week\n",
        "res = ttest_ind(third_sales[third_sales['Promotion']==1]['SalesInThousands'],third_sales[third_sales['Promotion']==3]['SalesInThousands'])\n",
        "t_stat, p_value = res[0],res[1]\n",
        "if p_value < 0.05:\n",
        "  print(\"P-value is {}, so there is a difference in sales for promotion 1 and promotion 3 for third week\".format(p_value))\n",
        "else:\n",
        "  print(\"P-value is {},hence there is no significant difference in sales for promotion 1 and promition 3 for third week\".format(p_value)  )"
      ],
      "metadata": {
        "colab": {
          "base_uri": "https://localhost:8080/"
        },
        "id": "U_nEgEucwffU",
        "outputId": "0f48ed78-0502-4778-94a7-71e7ba096b33"
      },
      "execution_count": 157,
      "outputs": [
        {
          "output_type": "stream",
          "name": "stdout",
          "text": [
            "P-value is 0.21937276089599606,hence there is no significant difference in sales for promotion 1 and promition 3 for third week\n"
          ]
        }
      ]
    },
    {
      "cell_type": "code",
      "source": [
        "# for fourth wek\n",
        "res = ttest_ind(four_sales[four_sales['Promotion']==1]['SalesInThousands'],four_sales[four_sales['Promotion']==3]['SalesInThousands'])\n",
        "t_stat, p_value = res[0],res[1]\n",
        "if p_value < 0.05:\n",
        "  print(\"P-value is {}, so there is a difference in sales for promotion 1 and promotion 3 for small size firms\".format(p_value))\n",
        "else:\n",
        "  print(\"P-value is {},hence there is no significant difference in sales for promotion 1 and promition 3 for small size firms\".format(p_value)  )"
      ],
      "metadata": {
        "colab": {
          "base_uri": "https://localhost:8080/"
        },
        "id": "M6nKzJsTwfmv",
        "outputId": "2187480e-2a3a-4a32-9bd0-f5f14c015bbd"
      },
      "execution_count": 158,
      "outputs": [
        {
          "output_type": "stream",
          "name": "stdout",
          "text": [
            "P-value is 0.3837511632994779,hence there is no significant difference in sales for promotion 1 and promition 3 for small size firms\n"
          ]
        }
      ]
    },
    {
      "cell_type": "markdown",
      "source": [
        "Based on above analysis, we found out that promotion_2 does not work througout all weeks. Rather, there was a stiff competition between promotion_1 and promotion_3 throughout these weeks. On basis of numbers, we can say but promotion_1 has a higher average sales than promotion_3 (but this difference was not too much to be called significant difference)."
      ],
      "metadata": {
        "id": "GQV5lvt2Di0S"
      }
    },
    {
      "cell_type": "markdown",
      "source": [
        "##  How promotion impacts the sales based on age of store?\n",
        "\n",
        "Now, we will see the impact of promotion based on the age of store. That is do we have more sales with old firm  or with new firms?\n"
      ],
      "metadata": {
        "id": "BLWWoYCfEcGd"
      }
    },
    {
      "cell_type": "code",
      "source": [
        "# distribution of age store\n",
        "df['AgeOfStore'].value_counts()"
      ],
      "metadata": {
        "colab": {
          "base_uri": "https://localhost:8080/"
        },
        "id": "begGIWi7DgmD",
        "outputId": "b77edd94-e5e9-460b-edff-af286c3bcd17"
      },
      "execution_count": 159,
      "outputs": [
        {
          "output_type": "execute_result",
          "data": {
            "text/plain": [
              "1     80\n",
              "4     44\n",
              "5     44\n",
              "7     40\n",
              "8     40\n",
              "6     36\n",
              "3     32\n",
              "9     28\n",
              "10    24\n",
              "12    24\n",
              "19    20\n",
              "13    20\n",
              "2     20\n",
              "11    16\n",
              "14    12\n",
              "24    12\n",
              "22    12\n",
              "15     8\n",
              "23     8\n",
              "18     8\n",
              "28     4\n",
              "25     4\n",
              "27     4\n",
              "17     4\n",
              "20     4\n",
              "Name: AgeOfStore, dtype: int64"
            ]
          },
          "metadata": {},
          "execution_count": 159
        }
      ]
    },
    {
      "cell_type": "code",
      "source": [
        "# using histplot\n",
        "df['AgeOfStore'].hist()\n",
        "plt.title(\"Distribution of Age of store\",fontsize=15)"
      ],
      "metadata": {
        "colab": {
          "base_uri": "https://localhost:8080/",
          "height": 300
        },
        "id": "-8AHLXPBKi7x",
        "outputId": "74db5310-5520-4f96-9b04-2ac34f44ed11"
      },
      "execution_count": 160,
      "outputs": [
        {
          "output_type": "execute_result",
          "data": {
            "text/plain": [
              "Text(0.5, 1.0, 'Distribution of Age of store')"
            ]
          },
          "metadata": {},
          "execution_count": 160
        },
        {
          "output_type": "display_data",
          "data": {
            "text/plain": [
              "<Figure size 432x288 with 1 Axes>"
            ],
            "image/png": "[encoded data removed]"
          },
          "metadata": {}
        }
      ]
    },
    {
      "cell_type": "code",
      "source": [
        "# describe about the age of store\n",
        "df['AgeOfStore'].describe()"
      ],
      "metadata": {
        "colab": {
          "base_uri": "https://localhost:8080/"
        },
        "id": "X4Q78amYOR_h",
        "outputId": "47fefa17-8005-47d0-ebab-4ac799dd76b6"
      },
      "execution_count": 161,
      "outputs": [
        {
          "output_type": "execute_result",
          "data": {
            "text/plain": [
              "count    548.000000\n",
              "mean       8.503650\n",
              "std        6.638345\n",
              "min        1.000000\n",
              "25%        4.000000\n",
              "50%        7.000000\n",
              "75%       12.000000\n",
              "max       28.000000\n",
              "Name: AgeOfStore, dtype: float64"
            ]
          },
          "metadata": {},
          "execution_count": 161
        }
      ]
    },
    {
      "cell_type": "markdown",
      "source": [
        "From the above, we can see that there are more number of firms that are new.  (mainly below 10 years)\n",
        "\n",
        "Let us divide the firms based on the age into new and old. The firm which is less than or equal to 7 years of age (using median) can be classified as new one and ones which is more than 7 years can be classified as old."
      ],
      "metadata": {
        "id": "NYJRQz7QK-w4"
      }
    },
    {
      "cell_type": "code",
      "source": [
        "# new and old\n",
        "\n",
        "def old_new(x):\n",
        "  if x<=7:\n",
        "    return \"new\"\n",
        "  else:\n",
        "    return \"old\"  "
      ],
      "metadata": {
        "id": "oLINA9IAKj1k"
      },
      "execution_count": 162,
      "outputs": []
    },
    {
      "cell_type": "code",
      "source": [
        "# using this old_new function using map method\n",
        "df['old_new'] = df['AgeOfStore'].map(old_new)"
      ],
      "metadata": {
        "id": "Sm85YhWSKj4v"
      },
      "execution_count": 163,
      "outputs": []
    },
    {
      "cell_type": "code",
      "source": [
        "# showing average values of sales for each category of firm\n",
        "sns.barplot(df['old_new'],df['SalesInThousands'])\n",
        "plt.title(\"Sales for firms\",fontsize=15)"
      ],
      "metadata": {
        "colab": {
          "base_uri": "https://localhost:8080/",
          "height": 315
        },
        "id": "XKvsAuTFKj8N",
        "outputId": "38030502-013f-4826-9b03-d29a2a24bff3"
      },
      "execution_count": 164,
      "outputs": [
        {
          "output_type": "execute_result",
          "data": {
            "text/plain": [
              "Text(0.5, 1.0, 'Sales for firms')"
            ]
          },
          "metadata": {},
          "execution_count": 164
        },
        {
          "output_type": "display_data",
          "data": {
            "text/plain": [
              "<Figure size 432x288 with 1 Axes>"
            ],
            "image/png": "[encoded data removed]"
          },
          "metadata": {}
        }
      ]
    },
    {
      "cell_type": "code",
      "source": [
        "# see this with respct to promotion\n",
        "sns.barplot(x='old_new',y= 'SalesInThousands',hue='Promotion',data =df)\n",
        "plt.title(\"sales for firms promotion wise\",fontsize=15)"
      ],
      "metadata": {
        "colab": {
          "base_uri": "https://localhost:8080/",
          "height": 315
        },
        "id": "S9GBFJR8KkAC",
        "outputId": "89235eff-bae7-4d2f-997c-83eedbc76595"
      },
      "execution_count": 165,
      "outputs": [
        {
          "output_type": "execute_result",
          "data": {
            "text/plain": [
              "Text(0.5, 1.0, 'sales for firms promotion wise')"
            ]
          },
          "metadata": {},
          "execution_count": 165
        },
        {
          "output_type": "display_data",
          "data": {
            "text/plain": [
              "<Figure size 432x288 with 1 Axes>"
            ],
            "image/png": "[encoded data removed]"
          },
          "metadata": {}
        }
      ]
    },
    {
      "cell_type": "markdown",
      "source": [
        "The average sales for both old and new is higher for new firms (slightly).\n",
        "\n",
        "Promotion _1 works best for new firms, while in case of old firms, there is indifference between promotion_1 and promotion_2.\n",
        "\n",
        "\n",
        "Let's test this with the help of hypothesis testing\n",
        "\n",
        "\n",
        "Ho: There is no significant difference between sales for new and old firms across promotions\n",
        "\n",
        "Ha: There is a significant difference between sales for new and old firms across promotion.\n",
        "\n",
        "\n",
        "\n"
      ],
      "metadata": {
        "id": "d0KQJCGSNxYb"
      }
    },
    {
      "cell_type": "code",
      "source": [
        "# division based on age \n",
        "old_firm = df[df['old_new']=='old'][['SalesInThousands','Promotion']]\n",
        "new_firm = df[df['old_new']=='new'][['SalesInThousands','Promotion']]\n"
      ],
      "metadata": {
        "id": "nowEuzpkKi_D"
      },
      "execution_count": 166,
      "outputs": []
    },
    {
      "cell_type": "code",
      "source": [
        "# for old_firm\n",
        "res = ttest_ind(old_firm[old_firm['Promotion']==1]['SalesInThousands'],old_firm[old_firm['Promotion']==3]['SalesInThousands'])\n",
        "t_stat, p_value = res[0],res[1]\n",
        "if p_value < 0.05:\n",
        "  print(\"P-value is {}, so there is a difference in sales for promotion 1 and promotion 3 for old firms\".format(p_value))\n",
        "else:\n",
        "  print(\"P-value is {},hence there is no significant difference in sales for promotion 1 and promition 3 for  old firms\".format(p_value)  )"
      ],
      "metadata": {
        "colab": {
          "base_uri": "https://localhost:8080/"
        },
        "id": "mw3M2PlGKjCd",
        "outputId": "98d8bf86-b651-4e21-9e53-67087ec43504"
      },
      "execution_count": 167,
      "outputs": [
        {
          "output_type": "stream",
          "name": "stdout",
          "text": [
            "P-value is 0.675945371752634,hence there is no significant difference in sales for promotion 1 and promition 3 for  old firms\n"
          ]
        }
      ]
    },
    {
      "cell_type": "code",
      "source": [
        "# for new_firm\n",
        "res = ttest_ind(new_firm[new_firm['Promotion']==1]['SalesInThousands'],new_firm[new_firm['Promotion']==3]['SalesInThousands'])\n",
        "t_stat, p_value = res[0],res[1]\n",
        "if p_value < 0.05:\n",
        "  print(\"P-value is {}, so there is a difference in sales for promotion 1 and promotion 3 for new firms\".format(p_value))\n",
        "else:\n",
        "  print(\"P-value is {},hence there is no significant difference in sales for promotion 1 and promition 3 for new firms\".format(p_value)  )"
      ],
      "metadata": {
        "colab": {
          "base_uri": "https://localhost:8080/"
        },
        "id": "QVt5W3KgKjFp",
        "outputId": "daed617f-8d5f-4dc5-efc4-d68d100a9fa6"
      },
      "execution_count": 168,
      "outputs": [
        {
          "output_type": "stream",
          "name": "stdout",
          "text": [
            "P-value is 0.1522764200852886,hence there is no significant difference in sales for promotion 1 and promition 3 for new firms\n"
          ]
        }
      ]
    },
    {
      "cell_type": "markdown",
      "source": [
        "Although  both new and old firms are earning more in promotion 1 compared to promotion_3, yet there are no conclusive evidence to say that the average sales are more for both firms in case of promotion_1 than promotion_3."
      ],
      "metadata": {
        "id": "1muWtEUoR0Kg"
      }
    },
    {
      "cell_type": "markdown",
      "source": [
        "## 4.  which promotion performs well over others when we compare it over location wise.\n",
        "\n",
        "Now, we will first explore the location_id of the dataset to obtain any insights and then, based on it , we will conduct our test. Here, location_id is an important factor as usually firm's sales are decided by its location."
      ],
      "metadata": {
        "id": "TN00EfJqSitS"
      }
    },
    {
      "cell_type": "code",
      "source": [
        "# describe about location_id\n",
        "df['LocationID'].describe()"
      ],
      "metadata": {
        "colab": {
          "base_uri": "https://localhost:8080/"
        },
        "id": "jEbp-N_1KjJB",
        "outputId": "1729b114-a16e-41bb-8d72-15fbd7472d11"
      },
      "execution_count": 169,
      "outputs": [
        {
          "output_type": "execute_result",
          "data": {
            "text/plain": [
              "count    548.000000\n",
              "mean     479.656934\n",
              "std      287.973679\n",
              "min        1.000000\n",
              "25%      216.000000\n",
              "50%      504.000000\n",
              "75%      708.000000\n",
              "max      920.000000\n",
              "Name: LocationID, dtype: float64"
            ]
          },
          "metadata": {},
          "execution_count": 169
        }
      ]
    },
    {
      "cell_type": "code",
      "source": [
        "# value distribution\n",
        "df['LocationID'].value_counts()"
      ],
      "metadata": {
        "colab": {
          "base_uri": "https://localhost:8080/"
        },
        "id": "Uvx9eln8TBhL",
        "outputId": "f8c32018-b36a-4d78-e87e-bb74d7e7409c"
      },
      "execution_count": 170,
      "outputs": [
        {
          "output_type": "execute_result",
          "data": {
            "text/plain": [
              "1      4\n",
              "615    4\n",
              "609    4\n",
              "610    4\n",
              "611    4\n",
              "      ..\n",
              "222    4\n",
              "221    4\n",
              "220    4\n",
              "219    4\n",
              "920    4\n",
              "Name: LocationID, Length: 137, dtype: int64"
            ]
          },
          "metadata": {},
          "execution_count": 170
        }
      ]
    },
    {
      "cell_type": "code",
      "source": [
        "# histogram\n",
        "df['LocationID'].hist()\n",
        "plt.title(\"Distribution of location_id\",fontsize=15)"
      ],
      "metadata": {
        "colab": {
          "base_uri": "https://localhost:8080/",
          "height": 300
        },
        "id": "V5FA5XHfTBkv",
        "outputId": "fc775ffb-6614-44fc-f0a8-16ad82bb5fc6"
      },
      "execution_count": 171,
      "outputs": [
        {
          "output_type": "execute_result",
          "data": {
            "text/plain": [
              "Text(0.5, 1.0, 'Distribution of location_id')"
            ]
          },
          "metadata": {},
          "execution_count": 171
        },
        {
          "output_type": "display_data",
          "data": {
            "text/plain": [
              "<Figure size 432x288 with 1 Axes>"
            ],
            "image/png": "[encoded data removed]"
          },
          "metadata": {}
        }
      ]
    },
    {
      "cell_type": "markdown",
      "source": [
        " The firms have location id vary from 0 to 1000.\n",
        "Let us divide the location_id into three categories: 0-300,300-600 and 600 and above."
      ],
      "metadata": {
        "id": "J80Csj2sVF71"
      }
    },
    {
      "cell_type": "code",
      "source": [
        "# defining function for it\n",
        "def cat_loc(x):\n",
        "  if x<=300:\n",
        "    return 1\n",
        "  elif x<600:\n",
        "    return 2\n",
        "  else:\n",
        "    return 3    "
      ],
      "metadata": {
        "id": "hHlZG4UATBoE"
      },
      "execution_count": 172,
      "outputs": []
    },
    {
      "cell_type": "code",
      "source": [
        "# using map function to convert and create a new column\n",
        "df['cat_loc'] = df['LocationID'].map(cat_loc)"
      ],
      "metadata": {
        "id": "5MfvqjeETBrn"
      },
      "execution_count": 173,
      "outputs": []
    },
    {
      "cell_type": "code",
      "source": [
        "# sales based on this new column\n",
        "sns.barplot(df['cat_loc'],df['SalesInThousands'])\n",
        "plt.title(\"Sales over location\",fontsize=15)"
      ],
      "metadata": {
        "colab": {
          "base_uri": "https://localhost:8080/",
          "height": 315
        },
        "id": "PyhJuIu3TBuJ",
        "outputId": "d0be2ef8-90e8-42a9-89cb-a38afd851cf6"
      },
      "execution_count": 174,
      "outputs": [
        {
          "output_type": "execute_result",
          "data": {
            "text/plain": [
              "Text(0.5, 1.0, 'Sales over location')"
            ]
          },
          "metadata": {},
          "execution_count": 174
        },
        {
          "output_type": "display_data",
          "data": {
            "text/plain": [
              "<Figure size 432x288 with 1 Axes>"
            ],
            "image/png": "[encoded data removed]"
          },
          "metadata": {}
        }
      ]
    },
    {
      "cell_type": "code",
      "source": [
        "# sales distribution with promtion wise\n",
        "sns.barplot(df['cat_loc'],df['SalesInThousands'],hue ='Promotion',data=df)\n",
        "plt.title(\"Sales over location , promotion wise\",fontsize=15)"
      ],
      "metadata": {
        "colab": {
          "base_uri": "https://localhost:8080/",
          "height": 315
        },
        "id": "qm3VdldKTCAX",
        "outputId": "f825f8dd-1b21-438e-ae8a-93c178d662e1"
      },
      "execution_count": 175,
      "outputs": [
        {
          "output_type": "execute_result",
          "data": {
            "text/plain": [
              "Text(0.5, 1.0, 'Sales over location , promotion wise')"
            ]
          },
          "metadata": {},
          "execution_count": 175
        },
        {
          "output_type": "display_data",
          "data": {
            "text/plain": [
              "<Figure size 432x288 with 1 Axes>"
            ],
            "image/png": "[encoded data removed]"
          },
          "metadata": {}
        }
      ]
    },
    {
      "cell_type": "markdown",
      "source": [
        "The promotion_2 performs worst for all location categories. Whereas, promotion 1 performs best.\n",
        "\n",
        "Let's test this with the help of hypothesis testing\n",
        "\n",
        "\n",
        "Ho: There is no significant difference between sales for firms located in different areas across promotion.\n",
        "\n",
        "Ha: There is a significant difference between sales for firms located in different areas across promotion."
      ],
      "metadata": {
        "id": "uDd0_cbjWldj"
      }
    },
    {
      "cell_type": "code",
      "source": [
        "# division based on location\n",
        "loc_1 = df[df['cat_loc']==1][['SalesInThousands','Promotion']]\n",
        "loc_2 = df[df['cat_loc']==2][['SalesInThousands','Promotion']]\n",
        "loc_3 = df[df['cat_loc']==3][['SalesInThousands','Promotion']]"
      ],
      "metadata": {
        "id": "gADHqOCRTCDo"
      },
      "execution_count": 176,
      "outputs": []
    },
    {
      "cell_type": "code",
      "source": [
        "# for location_1\n",
        "res = ttest_ind(loc_1[loc_1['Promotion']==1]['SalesInThousands'],loc_1[loc_1['Promotion']==3]['SalesInThousands'])\n",
        "t_stat, p_value = res[0],res[1]\n",
        "if p_value < 0.05:\n",
        "  print(\"P-value is {}, so there is a difference in sales for promotion 1 and promotion 3 for location 1\".format(p_value))\n",
        "else:\n",
        "  print(\"P-value is {},hence there is no significant difference in sales for promotion 1 and promition 3 for location 1\".format(p_value)  )"
      ],
      "metadata": {
        "colab": {
          "base_uri": "https://localhost:8080/"
        },
        "id": "1GM61uelbT4f",
        "outputId": "85c92bb6-3e75-4296-d9fc-653d9d1f0e6f"
      },
      "execution_count": 177,
      "outputs": [
        {
          "output_type": "stream",
          "name": "stdout",
          "text": [
            "P-value is 0.9835672251742894,hence there is no significant difference in sales for promotion 1 and promition 3 for location 1\n"
          ]
        }
      ]
    },
    {
      "cell_type": "code",
      "source": [
        "# for location_1\n",
        "res = ttest_ind(loc_1[loc_1['Promotion']==1]['SalesInThousands'],loc_1[loc_1['Promotion']==3]['SalesInThousands'])\n",
        "t_stat, p_value = res[0],res[1]\n",
        "if p_value < 0.05:\n",
        "  print(\"P-value is {}, so there is a difference in sales for promotion 1 and promotion 3 in location 1\".format(p_value))\n",
        "else:\n",
        "  print(\"P-value is {},hence there is no significant difference in sales for promotion 1 and promition 3 in location 1\".format(p_value)  )"
      ],
      "metadata": {
        "colab": {
          "base_uri": "https://localhost:8080/"
        },
        "id": "xH7bRCP6bmE1",
        "outputId": "41413fed-16fd-4973-b38b-2253e7676ec4"
      },
      "execution_count": 178,
      "outputs": [
        {
          "output_type": "stream",
          "name": "stdout",
          "text": [
            "P-value is 0.9835672251742894,hence there is no significant difference in sales for promotion 1 and promition 3 in location 1\n"
          ]
        }
      ]
    },
    {
      "cell_type": "code",
      "source": [
        "# for location_2\n",
        "res = ttest_ind(loc_2[loc_2['Promotion']==1]['SalesInThousands'],loc_2[loc_2['Promotion']==3]['SalesInThousands'])\n",
        "t_stat, p_value = res[0],res[1]\n",
        "if p_value < 0.05:\n",
        "  print(\"P-value is {}, so there is a difference in sales for promotion 1 and promotion 3 in location 2\".format(p_value))\n",
        "else:\n",
        "  print(\"P-value is {},hence there is no significant difference in sales for promotion 1 and promition 3 in location 1\".format(p_value)  )"
      ],
      "metadata": {
        "colab": {
          "base_uri": "https://localhost:8080/"
        },
        "id": "0VXAH1Z5bmJf",
        "outputId": "1004da1a-49b3-4dcd-ca99-1cf863b91e19"
      },
      "execution_count": 179,
      "outputs": [
        {
          "output_type": "stream",
          "name": "stdout",
          "text": [
            "P-value is 0.02635446428968791, so there is a difference in sales for promotion 1 and promotion 3 in location 2\n"
          ]
        }
      ]
    },
    {
      "cell_type": "code",
      "source": [
        "# for location_3\n",
        "res = ttest_ind(loc_3[loc_3['Promotion']==1]['SalesInThousands'],loc_3[loc_3['Promotion']==3]['SalesInThousands'])\n",
        "t_stat, p_value = res[0],res[1]\n",
        "if p_value < 0.05:\n",
        "  print(\"P-value is {}, so there is a difference in sales for promotion 1 and promotion 3 in location 3\".format(p_value))\n",
        "else:\n",
        "  print(\"P-value is {},hence there is no significant difference in sales for promotion 1 and promition 3 in location 3\".format(p_value)  )"
      ],
      "metadata": {
        "colab": {
          "base_uri": "https://localhost:8080/"
        },
        "id": "aTbyNUNhbmOO",
        "outputId": "407f4354-cf6f-4642-d45b-ac16ea51f80a"
      },
      "execution_count": 180,
      "outputs": [
        {
          "output_type": "stream",
          "name": "stdout",
          "text": [
            "P-value is 5.158791243907752e-09, so there is a difference in sales for promotion 1 and promotion 3 in location 3\n"
          ]
        }
      ]
    },
    {
      "cell_type": "markdown",
      "source": [
        "From the above, we can see the results shown by the barplot are reiterated by the hypothesis tests. The firms located in location_1 or location_3 are enjoying more average sales in case of promotion_1 compared to promotion_3."
      ],
      "metadata": {
        "id": "PPBofwq_cgBW"
      }
    },
    {
      "cell_type": "markdown",
      "source": [
        "#  Conclusion:\n",
        "\n",
        "Based on the above analysis, we have found the following insights:\n",
        "\n",
        "* The promotion_2 yields least amount of benefits(or sales on average) to the firms irrespective of location, age, week, or size.\n",
        "\n",
        "* It was found that promotion_1 and promotion_3 have been close on their impact on sales ,although promotion_1 generated a higher average sales but it was only marginal,  when compared on the basis of marketsize, week, age of store. The same was being assured from the evidence provided by A/B tests that shows lack of a significant difference in sales for marketsize, week, and age.\n",
        "\n",
        "\n",
        "* On the contrary, there was an outlier  in case of location where promotion_1 generated the relatively higher average sales to the firms.\n",
        "\n",
        "\n",
        "\n",
        "Hence, the firm can make use of either promotion_1 or promotion_3. Since, promotion_1 performs  significantly better in case of location and it has a higher average sales in case of age , weeek and age, **promotion_1 would help in optimizing the business revenue.**\n"
      ],
      "metadata": {
        "id": "aMmOu46ydA7y"
      }
    }
  ]
}